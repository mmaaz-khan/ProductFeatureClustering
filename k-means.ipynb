{
 "cells": [
  {
   "cell_type": "code",
   "execution_count": 1,
   "id": "1641c87d",
   "metadata": {},
   "outputs": [],
   "source": [
    "import pandas as pd\n",
    "import numpy as np\n",
    "import matplotlib as plt\n",
    "import matplotlib.pyplot as plt"
   ]
  },
  {
   "cell_type": "markdown",
   "id": "f3d8dc61",
   "metadata": {},
   "source": [
    "# I want to load each of the CSV files in the data directory\n",
    "# and then concatenate them into a single DataFrame."
   ]
  },
  {
   "cell_type": "code",
   "execution_count": null,
   "id": "c9679115",
   "metadata": {},
   "outputs": [
    {
     "name": "stdout",
     "output_type": "stream",
     "text": [
      "Found the following 115 data files: ['Air Conditioners.csv', 'All Appliances.csv', 'All Car and Motorbike Products.csv', 'All Electronics.csv', 'All Exercise and Fitness.csv', 'All Grocery and Gourmet Foods.csv', 'All Home and Kitchen.csv', 'All Pet Supplies.csv', 'All Sports Fitness and Outdoors.csv', 'Amazon Fashion.csv', 'Amazon-Products.csv', 'Baby Bath Skin and Grooming.csv', 'Baby Fashion.csv', 'Baby Products.csv', 'Backpacks.csv', 'Badminton.csv', 'Bags and Luggage.csv', 'Ballerinas.csv', 'Beauty and Grooming.csv', 'Bedroom Linen.csv', 'Camera Accessories.csv', 'Cameras.csv', 'Camping and Hiking.csv', 'Car Accessories.csv', 'Car and Bike Care.csv', 'Car Electronics.csv', 'Car Parts.csv', 'Cardio Equipment.csv', 'Casual Shoes.csv', 'Clothing.csv', 'Coffee Tea and Beverages.csv', 'Cricket.csv', 'Cycling.csv', 'Diapers.csv', 'Diet and Nutrition.csv', 'Dog supplies.csv', 'Ethnic Wear.csv', 'Fashion and Silver Jewellery.csv', 'Fashion Sales and Deals.csv', 'Fashion Sandals.csv', 'Fitness Accessories.csv', 'Football.csv', 'Formal Shoes.csv', 'Furniture.csv', 'Gaming Accessories.csv', 'Gaming Consoles.csv', 'Garden and Outdoors.csv', 'Gold and Diamond Jewellery.csv', 'Handbags and Clutches.csv', 'Headphones.csv', 'Health and Personal Care.csv', 'Heating and Cooling Appliances.csv', 'Home Audio and Theater.csv', 'Home Dcor.csv', 'Home Entertainment Systems.csv', 'Home Furnishing.csv', 'Home Improvement.csv', 'Home Storage.csv', 'Household Supplies.csv', 'Indoor Lighting.csv', 'Industrial and Scientific Supplies.csv', 'Innerwear.csv', 'International Toy Store.csv', 'Janitorial and Sanitation Supplies.csv', 'Jeans.csv', 'Jewellery.csv', 'Kids Clothing.csv', 'Kids Fashion.csv', 'Kids Shoes.csv', 'Kids Watches.csv', 'Kitchen and Dining.csv', 'Kitchen and Home Appliances.csv', 'Kitchen Storage and Containers.csv', 'Lab and Scientific.csv', 'Lingerie and Nightwear.csv', 'Luxury Beauty.csv', 'Make-up.csv', 'Mens Fashion.csv', 'Motorbike Accessories and Parts.csv', 'Musical Instruments and Professional Audio.csv', 'Nursing and Feeding.csv', 'Personal Care Appliances.csv', 'Refrigerators.csv', 'Refurbished and Open Box.csv', 'Rucksacks.csv', 'Running.csv', 'School Bags.csv', 'Security Cameras.csv', 'Sewing and Craft Supplies.csv', 'Shirts.csv', 'Shoes.csv', 'Snack Foods.csv', 'Speakers.csv', 'Sports Shoes.csv', 'Sportswear.csv', 'STEM Toys Store.csv', 'Strength Training.csv', 'Strollers and Prams.csv', 'Suitcases and Trolley Bags.csv', 'Sunglasses.csv', 'T-shirts and Polos.csv', 'Televisions.csv', 'Test Measure and Inspect.csv', 'The Designer Boutique.csv', 'Toys and Games.csv', 'Toys Gifting Store.csv', 'Travel Accessories.csv', 'Travel Duffles.csv', 'Value Bazaar.csv', 'Wallets.csv', 'Washing Machines.csv', 'Watches.csv', 'Western Wear.csv', 'Womens Fashion.csv', 'Yoga.csv']\n"
     ]
    }
   ],
   "source": [
    "import os\n",
    "\n",
    "master_df = pd.DataFrame()\n",
    "data_files = []\n",
    "\n",
    "for filename in os.listdir(\"products_dataset\"): # Iterates over files in the directory\n",
    "    if filename.endswith(\".csv\"): # Check if the file ends with .csv\n",
    "        data_files.append(filename) # Add the filename to the list\n",
    "    else:\n",
    "        continue\n",
    "\n",
    "print(f\"Found the following {len(data_files)} data files: {data_files}\" )"
   ]
  },
  {
   "cell_type": "markdown",
   "id": "fa9f9643",
   "metadata": {},
   "source": [
    "# Load the dataset"
   ]
  },
  {
   "cell_type": "code",
   "execution_count": null,
   "id": "839d8f84",
   "metadata": {},
   "outputs": [
    {
     "data": {
      "application/vnd.microsoft.datawrangler.viewer.v0+json": {
       "columns": [
        {
         "name": "index",
         "rawType": "int64",
         "type": "integer"
        },
        {
         "name": "name",
         "rawType": "object",
         "type": "string"
        },
        {
         "name": "main_category",
         "rawType": "object",
         "type": "string"
        },
        {
         "name": "sub_category",
         "rawType": "object",
         "type": "string"
        },
        {
         "name": "image",
         "rawType": "object",
         "type": "string"
        },
        {
         "name": "link",
         "rawType": "object",
         "type": "string"
        },
        {
         "name": "ratings",
         "rawType": "object",
         "type": "string"
        },
        {
         "name": "no_of_ratings",
         "rawType": "object",
         "type": "string"
        },
        {
         "name": "discount_price",
         "rawType": "object",
         "type": "string"
        },
        {
         "name": "actual_price",
         "rawType": "object",
         "type": "string"
        },
        {
         "name": "Unnamed: 0",
         "rawType": "float64",
         "type": "float"
        }
       ],
       "ref": "d4fe7a7e-73d9-486e-ac98-128c91e48462",
       "rows": [
        [
         "0",
         "Lloyd 1.5 Ton 3 Star Inverter Split Ac (5 In 1 Convertible, Copper, Anti-Viral + Pm 2.5 Filter, 2023 Model, White, Gls18I3...",
         "appliances",
         "Air Conditioners",
         "https://m.media-amazon.com/images/I/31UISB90sYL._AC_UL320_.jpg",
         "https://www.amazon.in/Lloyd-Inverter-Convertible-Anti-Viral-GLS18I3FWAMC/dp/B0BRKXTSBT/ref=sr_1_4?qid=1679134237&s=kitchen&sr=1-4",
         "4.2",
         "2,255",
         "₹32,999",
         "₹58,990",
         null
        ],
        [
         "1",
         "LG 1.5 Ton 5 Star AI DUAL Inverter Split AC (Copper, Super Convertible 6-in-1 Cooling, HD Filter with Anti-Virus Protectio...",
         "appliances",
         "Air Conditioners",
         "https://m.media-amazon.com/images/I/51JFb7FctDL._AC_UL320_.jpg",
         "https://www.amazon.in/LG-Convertible-Anti-Virus-Protection-RS-Q19YNZE/dp/B0BQ3MXML8/ref=sr_1_5?qid=1679134237&s=kitchen&sr=1-5",
         "4.2",
         "2,948",
         "₹46,490",
         "₹75,990",
         null
        ],
        [
         "2",
         "LG 1 Ton 4 Star Ai Dual Inverter Split Ac (Copper, Super Convertible 6-In-1 Cooling, Hd Filter With Anti Virus Protection,...",
         "appliances",
         "Air Conditioners",
         "https://m.media-amazon.com/images/I/51JFb7FctDL._AC_UL320_.jpg",
         "https://www.amazon.in/LG-Inverter-Convertible-protection-RS-Q13JNYE/dp/B0BPYN9JGF/ref=sr_1_6?qid=1679134237&s=kitchen&sr=1-6",
         "4.2",
         "1,206",
         "₹34,490",
         "₹61,990",
         null
        ],
        [
         "3",
         "LG 1.5 Ton 3 Star AI DUAL Inverter Split AC (Copper, Super Convertible 6-in-1 Cooling, HD Filter with Anti-Virus Protectio...",
         "appliances",
         "Air Conditioners",
         "https://m.media-amazon.com/images/I/51JFb7FctDL._AC_UL320_.jpg",
         "https://www.amazon.in/LG-Convertible-Anti-Virus-Protection-RS-Q19JNXE/dp/B0BQ3MJ1TG/ref=sr_1_7?qid=1679134237&s=kitchen&sr=1-7",
         "4.0",
         "69",
         "₹37,990",
         "₹68,990",
         null
        ],
        [
         "4",
         "Carrier 1.5 Ton 3 Star Inverter Split AC (Copper,ESTER Dxi, 4-in-1 Flexicool Inverter, 2022 Model,R32,White)",
         "appliances",
         "Air Conditioners",
         "https://m.media-amazon.com/images/I/41lrtqXPiWL._AC_UL320_.jpg",
         "https://www.amazon.in/Carrier-Inverter-Split-Copper-Flexicool/dp/B0B67RLLJC/ref=sr_1_8?qid=1679134237&s=kitchen&sr=1-8",
         "4.1",
         "630",
         "₹34,490",
         "₹67,790",
         null
        ]
       ],
       "shape": {
        "columns": 10,
        "rows": 5
       }
      },
      "text/html": [
       "<div>\n",
       "<style scoped>\n",
       "    .dataframe tbody tr th:only-of-type {\n",
       "        vertical-align: middle;\n",
       "    }\n",
       "\n",
       "    .dataframe tbody tr th {\n",
       "        vertical-align: top;\n",
       "    }\n",
       "\n",
       "    .dataframe thead th {\n",
       "        text-align: right;\n",
       "    }\n",
       "</style>\n",
       "<table border=\"1\" class=\"dataframe\">\n",
       "  <thead>\n",
       "    <tr style=\"text-align: right;\">\n",
       "      <th></th>\n",
       "      <th>name</th>\n",
       "      <th>main_category</th>\n",
       "      <th>sub_category</th>\n",
       "      <th>image</th>\n",
       "      <th>link</th>\n",
       "      <th>ratings</th>\n",
       "      <th>no_of_ratings</th>\n",
       "      <th>discount_price</th>\n",
       "      <th>actual_price</th>\n",
       "      <th>Unnamed: 0</th>\n",
       "    </tr>\n",
       "  </thead>\n",
       "  <tbody>\n",
       "    <tr>\n",
       "      <th>0</th>\n",
       "      <td>Lloyd 1.5 Ton 3 Star Inverter Split Ac (5 In 1...</td>\n",
       "      <td>appliances</td>\n",
       "      <td>Air Conditioners</td>\n",
       "      <td>https://m.media-amazon.com/images/I/31UISB90sY...</td>\n",
       "      <td>https://www.amazon.in/Lloyd-Inverter-Convertib...</td>\n",
       "      <td>4.2</td>\n",
       "      <td>2,255</td>\n",
       "      <td>₹32,999</td>\n",
       "      <td>₹58,990</td>\n",
       "      <td>NaN</td>\n",
       "    </tr>\n",
       "    <tr>\n",
       "      <th>1</th>\n",
       "      <td>LG 1.5 Ton 5 Star AI DUAL Inverter Split AC (C...</td>\n",
       "      <td>appliances</td>\n",
       "      <td>Air Conditioners</td>\n",
       "      <td>https://m.media-amazon.com/images/I/51JFb7FctD...</td>\n",
       "      <td>https://www.amazon.in/LG-Convertible-Anti-Viru...</td>\n",
       "      <td>4.2</td>\n",
       "      <td>2,948</td>\n",
       "      <td>₹46,490</td>\n",
       "      <td>₹75,990</td>\n",
       "      <td>NaN</td>\n",
       "    </tr>\n",
       "    <tr>\n",
       "      <th>2</th>\n",
       "      <td>LG 1 Ton 4 Star Ai Dual Inverter Split Ac (Cop...</td>\n",
       "      <td>appliances</td>\n",
       "      <td>Air Conditioners</td>\n",
       "      <td>https://m.media-amazon.com/images/I/51JFb7FctD...</td>\n",
       "      <td>https://www.amazon.in/LG-Inverter-Convertible-...</td>\n",
       "      <td>4.2</td>\n",
       "      <td>1,206</td>\n",
       "      <td>₹34,490</td>\n",
       "      <td>₹61,990</td>\n",
       "      <td>NaN</td>\n",
       "    </tr>\n",
       "    <tr>\n",
       "      <th>3</th>\n",
       "      <td>LG 1.5 Ton 3 Star AI DUAL Inverter Split AC (C...</td>\n",
       "      <td>appliances</td>\n",
       "      <td>Air Conditioners</td>\n",
       "      <td>https://m.media-amazon.com/images/I/51JFb7FctD...</td>\n",
       "      <td>https://www.amazon.in/LG-Convertible-Anti-Viru...</td>\n",
       "      <td>4.0</td>\n",
       "      <td>69</td>\n",
       "      <td>₹37,990</td>\n",
       "      <td>₹68,990</td>\n",
       "      <td>NaN</td>\n",
       "    </tr>\n",
       "    <tr>\n",
       "      <th>4</th>\n",
       "      <td>Carrier 1.5 Ton 3 Star Inverter Split AC (Copp...</td>\n",
       "      <td>appliances</td>\n",
       "      <td>Air Conditioners</td>\n",
       "      <td>https://m.media-amazon.com/images/I/41lrtqXPiW...</td>\n",
       "      <td>https://www.amazon.in/Carrier-Inverter-Split-C...</td>\n",
       "      <td>4.1</td>\n",
       "      <td>630</td>\n",
       "      <td>₹34,490</td>\n",
       "      <td>₹67,790</td>\n",
       "      <td>NaN</td>\n",
       "    </tr>\n",
       "  </tbody>\n",
       "</table>\n",
       "</div>"
      ],
      "text/plain": [
       "                                                name main_category  \\\n",
       "0  Lloyd 1.5 Ton 3 Star Inverter Split Ac (5 In 1...    appliances   \n",
       "1  LG 1.5 Ton 5 Star AI DUAL Inverter Split AC (C...    appliances   \n",
       "2  LG 1 Ton 4 Star Ai Dual Inverter Split Ac (Cop...    appliances   \n",
       "3  LG 1.5 Ton 3 Star AI DUAL Inverter Split AC (C...    appliances   \n",
       "4  Carrier 1.5 Ton 3 Star Inverter Split AC (Copp...    appliances   \n",
       "\n",
       "       sub_category                                              image  \\\n",
       "0  Air Conditioners  https://m.media-amazon.com/images/I/31UISB90sY...   \n",
       "1  Air Conditioners  https://m.media-amazon.com/images/I/51JFb7FctD...   \n",
       "2  Air Conditioners  https://m.media-amazon.com/images/I/51JFb7FctD...   \n",
       "3  Air Conditioners  https://m.media-amazon.com/images/I/51JFb7FctD...   \n",
       "4  Air Conditioners  https://m.media-amazon.com/images/I/41lrtqXPiW...   \n",
       "\n",
       "                                                link ratings no_of_ratings  \\\n",
       "0  https://www.amazon.in/Lloyd-Inverter-Convertib...     4.2         2,255   \n",
       "1  https://www.amazon.in/LG-Convertible-Anti-Viru...     4.2         2,948   \n",
       "2  https://www.amazon.in/LG-Inverter-Convertible-...     4.2         1,206   \n",
       "3  https://www.amazon.in/LG-Convertible-Anti-Viru...     4.0            69   \n",
       "4  https://www.amazon.in/Carrier-Inverter-Split-C...     4.1           630   \n",
       "\n",
       "  discount_price actual_price  Unnamed: 0  \n",
       "0        ₹32,999      ₹58,990         NaN  \n",
       "1        ₹46,490      ₹75,990         NaN  \n",
       "2        ₹34,490      ₹61,990         NaN  \n",
       "3        ₹37,990      ₹68,990         NaN  \n",
       "4        ₹34,490      ₹67,790         NaN  "
      ]
     },
     "execution_count": 3,
     "metadata": {},
     "output_type": "execute_result"
    }
   ],
   "source": [
    "for i in data_files:\n",
    "    file_path = os.path.join(\"products_dataset\", i) # Construct the full file path for each file\n",
    "    df = pd.read_csv(file_path) # Read the CSV file from the path into a DataFrame\n",
    "    master_df = pd.concat([master_df, df], ignore_index=True) # Concatenate the DataFrame to the master DataFrame\n",
    "\n",
    "master_df.head()"
   ]
  },
  {
   "cell_type": "markdown",
   "id": "64f1e9dd",
   "metadata": {},
   "source": [
    "# For the purposes of the task, I will be removing the category and sub-category columns\n",
    "# as well as other columns whihc provide no value to the analysis."
   ]
  },
  {
   "cell_type": "code",
   "execution_count": null,
   "id": "ec244648",
   "metadata": {},
   "outputs": [
    {
     "data": {
      "application/vnd.microsoft.datawrangler.viewer.v0+json": {
       "columns": [
        {
         "name": "index",
         "rawType": "int64",
         "type": "integer"
        },
        {
         "name": "name",
         "rawType": "object",
         "type": "string"
        },
        {
         "name": "ratings",
         "rawType": "object",
         "type": "string"
        },
        {
         "name": "no_of_ratings",
         "rawType": "object",
         "type": "string"
        },
        {
         "name": "discount_price",
         "rawType": "object",
         "type": "string"
        },
        {
         "name": "actual_price",
         "rawType": "object",
         "type": "string"
        }
       ],
       "ref": "6c188642-b7ae-4f58-9434-0c009af8524f",
       "rows": [
        [
         "0",
         "Lloyd 1.5 Ton 3 Star Inverter Split Ac (5 In 1 Convertible, Copper, Anti-Viral + Pm 2.5 Filter, 2023 Model, White, Gls18I3...",
         "4.2",
         "2,255",
         "₹32,999",
         "₹58,990"
        ],
        [
         "1",
         "LG 1.5 Ton 5 Star AI DUAL Inverter Split AC (Copper, Super Convertible 6-in-1 Cooling, HD Filter with Anti-Virus Protectio...",
         "4.2",
         "2,948",
         "₹46,490",
         "₹75,990"
        ],
        [
         "2",
         "LG 1 Ton 4 Star Ai Dual Inverter Split Ac (Copper, Super Convertible 6-In-1 Cooling, Hd Filter With Anti Virus Protection,...",
         "4.2",
         "1,206",
         "₹34,490",
         "₹61,990"
        ],
        [
         "3",
         "LG 1.5 Ton 3 Star AI DUAL Inverter Split AC (Copper, Super Convertible 6-in-1 Cooling, HD Filter with Anti-Virus Protectio...",
         "4.0",
         "69",
         "₹37,990",
         "₹68,990"
        ],
        [
         "4",
         "Carrier 1.5 Ton 3 Star Inverter Split AC (Copper,ESTER Dxi, 4-in-1 Flexicool Inverter, 2022 Model,R32,White)",
         "4.1",
         "630",
         "₹34,490",
         "₹67,790"
        ]
       ],
       "shape": {
        "columns": 5,
        "rows": 5
       }
      },
      "text/html": [
       "<div>\n",
       "<style scoped>\n",
       "    .dataframe tbody tr th:only-of-type {\n",
       "        vertical-align: middle;\n",
       "    }\n",
       "\n",
       "    .dataframe tbody tr th {\n",
       "        vertical-align: top;\n",
       "    }\n",
       "\n",
       "    .dataframe thead th {\n",
       "        text-align: right;\n",
       "    }\n",
       "</style>\n",
       "<table border=\"1\" class=\"dataframe\">\n",
       "  <thead>\n",
       "    <tr style=\"text-align: right;\">\n",
       "      <th></th>\n",
       "      <th>name</th>\n",
       "      <th>ratings</th>\n",
       "      <th>no_of_ratings</th>\n",
       "      <th>discount_price</th>\n",
       "      <th>actual_price</th>\n",
       "    </tr>\n",
       "  </thead>\n",
       "  <tbody>\n",
       "    <tr>\n",
       "      <th>0</th>\n",
       "      <td>Lloyd 1.5 Ton 3 Star Inverter Split Ac (5 In 1...</td>\n",
       "      <td>4.2</td>\n",
       "      <td>2,255</td>\n",
       "      <td>₹32,999</td>\n",
       "      <td>₹58,990</td>\n",
       "    </tr>\n",
       "    <tr>\n",
       "      <th>1</th>\n",
       "      <td>LG 1.5 Ton 5 Star AI DUAL Inverter Split AC (C...</td>\n",
       "      <td>4.2</td>\n",
       "      <td>2,948</td>\n",
       "      <td>₹46,490</td>\n",
       "      <td>₹75,990</td>\n",
       "    </tr>\n",
       "    <tr>\n",
       "      <th>2</th>\n",
       "      <td>LG 1 Ton 4 Star Ai Dual Inverter Split Ac (Cop...</td>\n",
       "      <td>4.2</td>\n",
       "      <td>1,206</td>\n",
       "      <td>₹34,490</td>\n",
       "      <td>₹61,990</td>\n",
       "    </tr>\n",
       "    <tr>\n",
       "      <th>3</th>\n",
       "      <td>LG 1.5 Ton 3 Star AI DUAL Inverter Split AC (C...</td>\n",
       "      <td>4.0</td>\n",
       "      <td>69</td>\n",
       "      <td>₹37,990</td>\n",
       "      <td>₹68,990</td>\n",
       "    </tr>\n",
       "    <tr>\n",
       "      <th>4</th>\n",
       "      <td>Carrier 1.5 Ton 3 Star Inverter Split AC (Copp...</td>\n",
       "      <td>4.1</td>\n",
       "      <td>630</td>\n",
       "      <td>₹34,490</td>\n",
       "      <td>₹67,790</td>\n",
       "    </tr>\n",
       "  </tbody>\n",
       "</table>\n",
       "</div>"
      ],
      "text/plain": [
       "                                                name ratings no_of_ratings  \\\n",
       "0  Lloyd 1.5 Ton 3 Star Inverter Split Ac (5 In 1...     4.2         2,255   \n",
       "1  LG 1.5 Ton 5 Star AI DUAL Inverter Split AC (C...     4.2         2,948   \n",
       "2  LG 1 Ton 4 Star Ai Dual Inverter Split Ac (Cop...     4.2         1,206   \n",
       "3  LG 1.5 Ton 3 Star AI DUAL Inverter Split AC (C...     4.0            69   \n",
       "4  Carrier 1.5 Ton 3 Star Inverter Split AC (Copp...     4.1           630   \n",
       "\n",
       "  discount_price actual_price  \n",
       "0        ₹32,999      ₹58,990  \n",
       "1        ₹46,490      ₹75,990  \n",
       "2        ₹34,490      ₹61,990  \n",
       "3        ₹37,990      ₹68,990  \n",
       "4        ₹34,490      ₹67,790  "
      ]
     },
     "execution_count": 4,
     "metadata": {},
     "output_type": "execute_result"
    }
   ],
   "source": [
    "master_df = master_df.drop(columns=['main_category', 'sub_category', 'image', 'link', 'Unnamed: 0']) # Drop specified columns\n",
    "\n",
    "master_df.head()"
   ]
  },
  {
   "cell_type": "markdown",
   "id": "20f95674",
   "metadata": {},
   "source": [
    "# We want to ensure all data is empirical\n",
    "# We will convert the price column to flat by removing the yen symbol using regex matching"
   ]
  },
  {
   "cell_type": "code",
   "execution_count": null,
   "id": "2f7dc738",
   "metadata": {},
   "outputs": [
    {
     "data": {
      "application/vnd.microsoft.datawrangler.viewer.v0+json": {
       "columns": [
        {
         "name": "index",
         "rawType": "int64",
         "type": "integer"
        },
        {
         "name": "name",
         "rawType": "object",
         "type": "string"
        },
        {
         "name": "ratings",
         "rawType": "float64",
         "type": "float"
        },
        {
         "name": "no_of_ratings",
         "rawType": "object",
         "type": "string"
        },
        {
         "name": "discount_price",
         "rawType": "float64",
         "type": "float"
        },
        {
         "name": "actual_price",
         "rawType": "float64",
         "type": "float"
        }
       ],
       "ref": "9ee917da-dbb6-4af2-b401-64f6dc3b544e",
       "rows": [
        [
         "0",
         "Lloyd 1.5 Ton 3 Star Inverter Split Ac (5 In 1 Convertible, Copper, Anti-Viral + Pm 2.5 Filter, 2023 Model, White, Gls18I3...",
         "4.2",
         "2,255",
         "32999.0",
         "58990.0"
        ],
        [
         "1",
         "LG 1.5 Ton 5 Star AI DUAL Inverter Split AC (Copper, Super Convertible 6-in-1 Cooling, HD Filter with Anti-Virus Protectio...",
         "4.2",
         "2,948",
         "46490.0",
         "75990.0"
        ],
        [
         "2",
         "LG 1 Ton 4 Star Ai Dual Inverter Split Ac (Copper, Super Convertible 6-In-1 Cooling, Hd Filter With Anti Virus Protection,...",
         "4.2",
         "1,206",
         "34490.0",
         "61990.0"
        ],
        [
         "3",
         "LG 1.5 Ton 3 Star AI DUAL Inverter Split AC (Copper, Super Convertible 6-in-1 Cooling, HD Filter with Anti-Virus Protectio...",
         "4.0",
         "69",
         "37990.0",
         "68990.0"
        ],
        [
         "4",
         "Carrier 1.5 Ton 3 Star Inverter Split AC (Copper,ESTER Dxi, 4-in-1 Flexicool Inverter, 2022 Model,R32,White)",
         "4.1",
         "630",
         "34490.0",
         "67790.0"
        ]
       ],
       "shape": {
        "columns": 5,
        "rows": 5
       }
      },
      "text/html": [
       "<div>\n",
       "<style scoped>\n",
       "    .dataframe tbody tr th:only-of-type {\n",
       "        vertical-align: middle;\n",
       "    }\n",
       "\n",
       "    .dataframe tbody tr th {\n",
       "        vertical-align: top;\n",
       "    }\n",
       "\n",
       "    .dataframe thead th {\n",
       "        text-align: right;\n",
       "    }\n",
       "</style>\n",
       "<table border=\"1\" class=\"dataframe\">\n",
       "  <thead>\n",
       "    <tr style=\"text-align: right;\">\n",
       "      <th></th>\n",
       "      <th>name</th>\n",
       "      <th>ratings</th>\n",
       "      <th>no_of_ratings</th>\n",
       "      <th>discount_price</th>\n",
       "      <th>actual_price</th>\n",
       "    </tr>\n",
       "  </thead>\n",
       "  <tbody>\n",
       "    <tr>\n",
       "      <th>0</th>\n",
       "      <td>Lloyd 1.5 Ton 3 Star Inverter Split Ac (5 In 1...</td>\n",
       "      <td>4.2</td>\n",
       "      <td>2,255</td>\n",
       "      <td>32999.0</td>\n",
       "      <td>58990.0</td>\n",
       "    </tr>\n",
       "    <tr>\n",
       "      <th>1</th>\n",
       "      <td>LG 1.5 Ton 5 Star AI DUAL Inverter Split AC (C...</td>\n",
       "      <td>4.2</td>\n",
       "      <td>2,948</td>\n",
       "      <td>46490.0</td>\n",
       "      <td>75990.0</td>\n",
       "    </tr>\n",
       "    <tr>\n",
       "      <th>2</th>\n",
       "      <td>LG 1 Ton 4 Star Ai Dual Inverter Split Ac (Cop...</td>\n",
       "      <td>4.2</td>\n",
       "      <td>1,206</td>\n",
       "      <td>34490.0</td>\n",
       "      <td>61990.0</td>\n",
       "    </tr>\n",
       "    <tr>\n",
       "      <th>3</th>\n",
       "      <td>LG 1.5 Ton 3 Star AI DUAL Inverter Split AC (C...</td>\n",
       "      <td>4.0</td>\n",
       "      <td>69</td>\n",
       "      <td>37990.0</td>\n",
       "      <td>68990.0</td>\n",
       "    </tr>\n",
       "    <tr>\n",
       "      <th>4</th>\n",
       "      <td>Carrier 1.5 Ton 3 Star Inverter Split AC (Copp...</td>\n",
       "      <td>4.1</td>\n",
       "      <td>630</td>\n",
       "      <td>34490.0</td>\n",
       "      <td>67790.0</td>\n",
       "    </tr>\n",
       "  </tbody>\n",
       "</table>\n",
       "</div>"
      ],
      "text/plain": [
       "                                                name  ratings no_of_ratings  \\\n",
       "0  Lloyd 1.5 Ton 3 Star Inverter Split Ac (5 In 1...      4.2         2,255   \n",
       "1  LG 1.5 Ton 5 Star AI DUAL Inverter Split AC (C...      4.2         2,948   \n",
       "2  LG 1 Ton 4 Star Ai Dual Inverter Split Ac (Cop...      4.2         1,206   \n",
       "3  LG 1.5 Ton 3 Star AI DUAL Inverter Split AC (C...      4.0            69   \n",
       "4  Carrier 1.5 Ton 3 Star Inverter Split AC (Copp...      4.1           630   \n",
       "\n",
       "   discount_price  actual_price  \n",
       "0         32999.0       58990.0  \n",
       "1         46490.0       75990.0  \n",
       "2         34490.0       61990.0  \n",
       "3         37990.0       68990.0  \n",
       "4         34490.0       67790.0  "
      ]
     },
     "execution_count": 5,
     "metadata": {},
     "output_type": "execute_result"
    }
   ],
   "source": [
    "master_df['discount_price'] = master_df['discount_price'].replace('[\\₹,]', '', regex=True).astype(float) # Convert discount_price to float\n",
    "master_df['actual_price'] = master_df['actual_price'].replace('[\\₹,]', '', regex=True).astype(float) # Convert actual_price to float\n",
    "\n",
    "master_df['ratings'] = pd.to_numeric(master_df['ratings'], errors='coerce') # Convert ratings to float\n",
    "master_df = master_df.dropna(subset=['ratings']) # Drop NaN values in ratings\n",
    "\n",
    "master_df.head()"
   ]
  },
  {
   "cell_type": "markdown",
   "id": "8c22159a",
   "metadata": {},
   "source": [
    "# Some derived fields can be useful for analysis.\n",
    "# We will calculate the discount amount, the discount percentage, the price-rating ratio"
   ]
  },
  {
   "cell_type": "code",
   "execution_count": null,
   "id": "a45ed1f2",
   "metadata": {},
   "outputs": [
    {
     "data": {
      "application/vnd.microsoft.datawrangler.viewer.v0+json": {
       "columns": [
        {
         "name": "index",
         "rawType": "int64",
         "type": "integer"
        },
        {
         "name": "name",
         "rawType": "object",
         "type": "string"
        },
        {
         "name": "ratings",
         "rawType": "float64",
         "type": "float"
        },
        {
         "name": "no_of_ratings",
         "rawType": "object",
         "type": "string"
        },
        {
         "name": "discount_price",
         "rawType": "float64",
         "type": "float"
        },
        {
         "name": "actual_price",
         "rawType": "float64",
         "type": "float"
        },
        {
         "name": "discount",
         "rawType": "float64",
         "type": "float"
        },
        {
         "name": "discount_percentage",
         "rawType": "float64",
         "type": "float"
        },
        {
         "name": "price_rating_ratio",
         "rawType": "float64",
         "type": "float"
        }
       ],
       "ref": "1b0ea942-5b58-482e-ab83-e6acc69bf5ab",
       "rows": [
        [
         "0",
         "Lloyd 1.5 Ton 3 Star Inverter Split Ac (5 In 1 Convertible, Copper, Anti-Viral + Pm 2.5 Filter, 2023 Model, White, Gls18I3...",
         "4.2",
         "2,255",
         "32999.0",
         "58990.0",
         "25991.0",
         "44.06",
         "14045.238"
        ],
        [
         "1",
         "LG 1.5 Ton 5 Star AI DUAL Inverter Split AC (Copper, Super Convertible 6-in-1 Cooling, HD Filter with Anti-Virus Protectio...",
         "4.2",
         "2,948",
         "46490.0",
         "75990.0",
         "29500.0",
         "38.82",
         "18092.857"
        ],
        [
         "2",
         "LG 1 Ton 4 Star Ai Dual Inverter Split Ac (Copper, Super Convertible 6-In-1 Cooling, Hd Filter With Anti Virus Protection,...",
         "4.2",
         "1,206",
         "34490.0",
         "61990.0",
         "27500.0",
         "44.36",
         "14759.524"
        ],
        [
         "3",
         "LG 1.5 Ton 3 Star AI DUAL Inverter Split AC (Copper, Super Convertible 6-in-1 Cooling, HD Filter with Anti-Virus Protectio...",
         "4.0",
         "69",
         "37990.0",
         "68990.0",
         "31000.0",
         "44.93",
         "17247.5"
        ],
        [
         "4",
         "Carrier 1.5 Ton 3 Star Inverter Split AC (Copper,ESTER Dxi, 4-in-1 Flexicool Inverter, 2022 Model,R32,White)",
         "4.1",
         "630",
         "34490.0",
         "67790.0",
         "33300.0",
         "49.12",
         "16534.146"
        ]
       ],
       "shape": {
        "columns": 8,
        "rows": 5
       }
      },
      "text/html": [
       "<div>\n",
       "<style scoped>\n",
       "    .dataframe tbody tr th:only-of-type {\n",
       "        vertical-align: middle;\n",
       "    }\n",
       "\n",
       "    .dataframe tbody tr th {\n",
       "        vertical-align: top;\n",
       "    }\n",
       "\n",
       "    .dataframe thead th {\n",
       "        text-align: right;\n",
       "    }\n",
       "</style>\n",
       "<table border=\"1\" class=\"dataframe\">\n",
       "  <thead>\n",
       "    <tr style=\"text-align: right;\">\n",
       "      <th></th>\n",
       "      <th>name</th>\n",
       "      <th>ratings</th>\n",
       "      <th>no_of_ratings</th>\n",
       "      <th>discount_price</th>\n",
       "      <th>actual_price</th>\n",
       "      <th>discount</th>\n",
       "      <th>discount_percentage</th>\n",
       "      <th>price_rating_ratio</th>\n",
       "    </tr>\n",
       "  </thead>\n",
       "  <tbody>\n",
       "    <tr>\n",
       "      <th>0</th>\n",
       "      <td>Lloyd 1.5 Ton 3 Star Inverter Split Ac (5 In 1...</td>\n",
       "      <td>4.2</td>\n",
       "      <td>2,255</td>\n",
       "      <td>32999.0</td>\n",
       "      <td>58990.0</td>\n",
       "      <td>25991.0</td>\n",
       "      <td>44.06</td>\n",
       "      <td>14045.238</td>\n",
       "    </tr>\n",
       "    <tr>\n",
       "      <th>1</th>\n",
       "      <td>LG 1.5 Ton 5 Star AI DUAL Inverter Split AC (C...</td>\n",
       "      <td>4.2</td>\n",
       "      <td>2,948</td>\n",
       "      <td>46490.0</td>\n",
       "      <td>75990.0</td>\n",
       "      <td>29500.0</td>\n",
       "      <td>38.82</td>\n",
       "      <td>18092.857</td>\n",
       "    </tr>\n",
       "    <tr>\n",
       "      <th>2</th>\n",
       "      <td>LG 1 Ton 4 Star Ai Dual Inverter Split Ac (Cop...</td>\n",
       "      <td>4.2</td>\n",
       "      <td>1,206</td>\n",
       "      <td>34490.0</td>\n",
       "      <td>61990.0</td>\n",
       "      <td>27500.0</td>\n",
       "      <td>44.36</td>\n",
       "      <td>14759.524</td>\n",
       "    </tr>\n",
       "    <tr>\n",
       "      <th>3</th>\n",
       "      <td>LG 1.5 Ton 3 Star AI DUAL Inverter Split AC (C...</td>\n",
       "      <td>4.0</td>\n",
       "      <td>69</td>\n",
       "      <td>37990.0</td>\n",
       "      <td>68990.0</td>\n",
       "      <td>31000.0</td>\n",
       "      <td>44.93</td>\n",
       "      <td>17247.500</td>\n",
       "    </tr>\n",
       "    <tr>\n",
       "      <th>4</th>\n",
       "      <td>Carrier 1.5 Ton 3 Star Inverter Split AC (Copp...</td>\n",
       "      <td>4.1</td>\n",
       "      <td>630</td>\n",
       "      <td>34490.0</td>\n",
       "      <td>67790.0</td>\n",
       "      <td>33300.0</td>\n",
       "      <td>49.12</td>\n",
       "      <td>16534.146</td>\n",
       "    </tr>\n",
       "  </tbody>\n",
       "</table>\n",
       "</div>"
      ],
      "text/plain": [
       "                                                name  ratings no_of_ratings  \\\n",
       "0  Lloyd 1.5 Ton 3 Star Inverter Split Ac (5 In 1...      4.2         2,255   \n",
       "1  LG 1.5 Ton 5 Star AI DUAL Inverter Split AC (C...      4.2         2,948   \n",
       "2  LG 1 Ton 4 Star Ai Dual Inverter Split Ac (Cop...      4.2         1,206   \n",
       "3  LG 1.5 Ton 3 Star AI DUAL Inverter Split AC (C...      4.0            69   \n",
       "4  Carrier 1.5 Ton 3 Star Inverter Split AC (Copp...      4.1           630   \n",
       "\n",
       "   discount_price  actual_price  discount  discount_percentage  \\\n",
       "0         32999.0       58990.0   25991.0                44.06   \n",
       "1         46490.0       75990.0   29500.0                38.82   \n",
       "2         34490.0       61990.0   27500.0                44.36   \n",
       "3         37990.0       68990.0   31000.0                44.93   \n",
       "4         34490.0       67790.0   33300.0                49.12   \n",
       "\n",
       "   price_rating_ratio  \n",
       "0           14045.238  \n",
       "1           18092.857  \n",
       "2           14759.524  \n",
       "3           17247.500  \n",
       "4           16534.146  "
      ]
     },
     "execution_count": 6,
     "metadata": {},
     "output_type": "execute_result"
    }
   ],
   "source": [
    "master_df['discount'] = master_df['actual_price'] - master_df['discount_price'] # Calculate discount\n",
    "master_df['discount_percentage'] = ((master_df['discount'] / master_df['actual_price']) * 100).round(2) # Calculate discount percentage\n",
    "master_df['price_rating_ratio'] = (master_df['actual_price'] / master_df['ratings']).round(3) # Calculate price-rating ratio\n",
    "\n",
    "master_df.head()"
   ]
  },
  {
   "cell_type": "markdown",
   "id": "37455a0a",
   "metadata": {},
   "source": [
    "# The fatures operate on different scales, i need to standardise the data\n",
    "# I will use Min-Max scaling to standardise the data"
   ]
  },
  {
   "cell_type": "code",
   "execution_count": null,
   "id": "1eaa160f",
   "metadata": {},
   "outputs": [],
   "source": [
    "def min_max_scaling(df, column):\n",
    "    min = df[column].min() # Getting the min value in the col\n",
    "    max = df[column]. max() # Getting the max value in the col\n",
    "\n",
    "    def func(x):\n",
    "        return (((x-min)/(max-min))) # Calculating min-max formula\n",
    "\n",
    "    df[column] = df[column].apply(func) # Applying formula to all values in the column"
   ]
  },
  {
   "cell_type": "code",
   "execution_count": 10,
   "id": "2e60b7d8",
   "metadata": {},
   "outputs": [
    {
     "data": {
      "application/vnd.microsoft.datawrangler.viewer.v0+json": {
       "columns": [
        {
         "name": "index",
         "rawType": "int64",
         "type": "integer"
        },
        {
         "name": "ratings",
         "rawType": "float64",
         "type": "float"
        },
        {
         "name": "no_of_ratings",
         "rawType": "float64",
         "type": "float"
        },
        {
         "name": "discount_price",
         "rawType": "float64",
         "type": "float"
        },
        {
         "name": "actual_price",
         "rawType": "float64",
         "type": "float"
        },
        {
         "name": "discount",
         "rawType": "float64",
         "type": "float"
        },
        {
         "name": "discount_percentage",
         "rawType": "float64",
         "type": "float"
        },
        {
         "name": "price_rating_ratio",
         "rawType": "float64",
         "type": "float"
        }
       ],
       "ref": "64520ad1-ee25-469f-ae2b-203f4caa857b",
       "rows": [
        [
         "0",
         "4.2",
         "2255.0",
         "32999.0",
         "58990.0",
         "25991.0",
         "44.06",
         "14045.238"
        ],
        [
         "1",
         "4.2",
         "2948.0",
         "46490.0",
         "75990.0",
         "29500.0",
         "38.82",
         "18092.857"
        ],
        [
         "2",
         "4.2",
         "1206.0",
         "34490.0",
         "61990.0",
         "27500.0",
         "44.36",
         "14759.524"
        ],
        [
         "3",
         "4.0",
         "69.0",
         "37990.0",
         "68990.0",
         "31000.0",
         "44.93",
         "17247.5"
        ],
        [
         "4",
         "4.1",
         "630.0",
         "34490.0",
         "67790.0",
         "33300.0",
         "49.12",
         "16534.146"
        ]
       ],
       "shape": {
        "columns": 7,
        "rows": 5
       }
      },
      "text/html": [
       "<div>\n",
       "<style scoped>\n",
       "    .dataframe tbody tr th:only-of-type {\n",
       "        vertical-align: middle;\n",
       "    }\n",
       "\n",
       "    .dataframe tbody tr th {\n",
       "        vertical-align: top;\n",
       "    }\n",
       "\n",
       "    .dataframe thead th {\n",
       "        text-align: right;\n",
       "    }\n",
       "</style>\n",
       "<table border=\"1\" class=\"dataframe\">\n",
       "  <thead>\n",
       "    <tr style=\"text-align: right;\">\n",
       "      <th></th>\n",
       "      <th>ratings</th>\n",
       "      <th>no_of_ratings</th>\n",
       "      <th>discount_price</th>\n",
       "      <th>actual_price</th>\n",
       "      <th>discount</th>\n",
       "      <th>discount_percentage</th>\n",
       "      <th>price_rating_ratio</th>\n",
       "    </tr>\n",
       "  </thead>\n",
       "  <tbody>\n",
       "    <tr>\n",
       "      <th>0</th>\n",
       "      <td>4.2</td>\n",
       "      <td>2255.0</td>\n",
       "      <td>32999.0</td>\n",
       "      <td>58990.0</td>\n",
       "      <td>25991.0</td>\n",
       "      <td>44.06</td>\n",
       "      <td>14045.238</td>\n",
       "    </tr>\n",
       "    <tr>\n",
       "      <th>1</th>\n",
       "      <td>4.2</td>\n",
       "      <td>2948.0</td>\n",
       "      <td>46490.0</td>\n",
       "      <td>75990.0</td>\n",
       "      <td>29500.0</td>\n",
       "      <td>38.82</td>\n",
       "      <td>18092.857</td>\n",
       "    </tr>\n",
       "    <tr>\n",
       "      <th>2</th>\n",
       "      <td>4.2</td>\n",
       "      <td>1206.0</td>\n",
       "      <td>34490.0</td>\n",
       "      <td>61990.0</td>\n",
       "      <td>27500.0</td>\n",
       "      <td>44.36</td>\n",
       "      <td>14759.524</td>\n",
       "    </tr>\n",
       "    <tr>\n",
       "      <th>3</th>\n",
       "      <td>4.0</td>\n",
       "      <td>69.0</td>\n",
       "      <td>37990.0</td>\n",
       "      <td>68990.0</td>\n",
       "      <td>31000.0</td>\n",
       "      <td>44.93</td>\n",
       "      <td>17247.500</td>\n",
       "    </tr>\n",
       "    <tr>\n",
       "      <th>4</th>\n",
       "      <td>4.1</td>\n",
       "      <td>630.0</td>\n",
       "      <td>34490.0</td>\n",
       "      <td>67790.0</td>\n",
       "      <td>33300.0</td>\n",
       "      <td>49.12</td>\n",
       "      <td>16534.146</td>\n",
       "    </tr>\n",
       "  </tbody>\n",
       "</table>\n",
       "</div>"
      ],
      "text/plain": [
       "   ratings  no_of_ratings  discount_price  actual_price  discount  \\\n",
       "0      4.2         2255.0         32999.0       58990.0   25991.0   \n",
       "1      4.2         2948.0         46490.0       75990.0   29500.0   \n",
       "2      4.2         1206.0         34490.0       61990.0   27500.0   \n",
       "3      4.0           69.0         37990.0       68990.0   31000.0   \n",
       "4      4.1          630.0         34490.0       67790.0   33300.0   \n",
       "\n",
       "   discount_percentage  price_rating_ratio  \n",
       "0                44.06           14045.238  \n",
       "1                38.82           18092.857  \n",
       "2                44.36           14759.524  \n",
       "3                44.93           17247.500  \n",
       "4                49.12           16534.146  "
      ]
     },
     "execution_count": 10,
     "metadata": {},
     "output_type": "execute_result"
    }
   ],
   "source": [
    "scaled_df = master_df # Save my dataframe\n",
    "scaled_df = scaled_df.drop(columns=['name']) # Remove non-numeric fields\n",
    "scaled_df['no_of_ratings'] = scaled_df['no_of_ratings'].astype(str) # Convert object field to str\n",
    "scaled_df['no_of_ratings'] = scaled_df['no_of_ratings'].replace(\",\", \"\", regex=True) # Remove commas\n",
    "scaled_df['no_of_ratings'] = pd.to_numeric(scaled_df['no_of_ratings']) # Convert to numeric\n",
    "scaled_df = scaled_df[scaled_df['actual_price'] <= 2000000] # Drop rows with price over 2 million as these are definite outliers\n",
    "\n",
    "\n",
    "scaled_df = scaled_df.dropna() # Drop rows with missing values\n",
    "\n",
    "scaled_df.head()"
   ]
  },
  {
   "cell_type": "code",
   "execution_count": 11,
   "id": "345fb2aa",
   "metadata": {},
   "outputs": [
    {
     "data": {
      "application/vnd.microsoft.datawrangler.viewer.v0+json": {
       "columns": [
        {
         "name": "index",
         "rawType": "int64",
         "type": "integer"
        },
        {
         "name": "ratings",
         "rawType": "float64",
         "type": "float"
        },
        {
         "name": "no_of_ratings",
         "rawType": "float64",
         "type": "float"
        },
        {
         "name": "discount_price",
         "rawType": "float64",
         "type": "float"
        },
        {
         "name": "actual_price",
         "rawType": "float64",
         "type": "float"
        },
        {
         "name": "discount",
         "rawType": "float64",
         "type": "float"
        },
        {
         "name": "discount_percentage",
         "rawType": "float64",
         "type": "float"
        },
        {
         "name": "price_rating_ratio",
         "rawType": "float64",
         "type": "float"
        }
       ],
       "ref": "4de7b981-210a-4974-8b05-42d4841a52c5",
       "rows": [
        [
         "0",
         "0.8",
         "0.0038232809653530003",
         "0.02639318006179289",
         "0.03698060681300905",
         "0.040995576321510054",
         "0.441041041041041",
         "0.03521999939516874"
        ],
        [
         "1",
         "0.8",
         "0.004998761759048488",
         "0.037186135480350914",
         "0.04763964912940705",
         "0.04653032037366731",
         "0.3885885885885886",
         "0.04537146107062887"
        ],
        [
         "2",
         "0.8",
         "0.0020439456802352996",
         "0.027585997238360232",
         "0.03886161428060869",
         "0.043375721312876626",
         "0.444044044044044",
         "0.03701143454613471"
        ],
        [
         "3",
         "0.75",
         "0.00011534299274356878",
         "0.03038603755894085",
         "0.04325063170500787",
         "0.04889626966926033",
         "0.44974974974974974",
         "0.0432512987758126"
        ],
        [
         "4",
         "0.7749999999999999",
         "0.0010669226828780112",
         "0.027585997238360232",
         "0.04249822871796801",
         "0.05252405858916961",
         "0.49169169169169163",
         "0.04146220108849663"
        ]
       ],
       "shape": {
        "columns": 7,
        "rows": 5
       }
      },
      "text/html": [
       "<div>\n",
       "<style scoped>\n",
       "    .dataframe tbody tr th:only-of-type {\n",
       "        vertical-align: middle;\n",
       "    }\n",
       "\n",
       "    .dataframe tbody tr th {\n",
       "        vertical-align: top;\n",
       "    }\n",
       "\n",
       "    .dataframe thead th {\n",
       "        text-align: right;\n",
       "    }\n",
       "</style>\n",
       "<table border=\"1\" class=\"dataframe\">\n",
       "  <thead>\n",
       "    <tr style=\"text-align: right;\">\n",
       "      <th></th>\n",
       "      <th>ratings</th>\n",
       "      <th>no_of_ratings</th>\n",
       "      <th>discount_price</th>\n",
       "      <th>actual_price</th>\n",
       "      <th>discount</th>\n",
       "      <th>discount_percentage</th>\n",
       "      <th>price_rating_ratio</th>\n",
       "    </tr>\n",
       "  </thead>\n",
       "  <tbody>\n",
       "    <tr>\n",
       "      <th>0</th>\n",
       "      <td>0.800</td>\n",
       "      <td>0.003823</td>\n",
       "      <td>0.026393</td>\n",
       "      <td>0.036981</td>\n",
       "      <td>0.040996</td>\n",
       "      <td>0.441041</td>\n",
       "      <td>0.035220</td>\n",
       "    </tr>\n",
       "    <tr>\n",
       "      <th>1</th>\n",
       "      <td>0.800</td>\n",
       "      <td>0.004999</td>\n",
       "      <td>0.037186</td>\n",
       "      <td>0.047640</td>\n",
       "      <td>0.046530</td>\n",
       "      <td>0.388589</td>\n",
       "      <td>0.045371</td>\n",
       "    </tr>\n",
       "    <tr>\n",
       "      <th>2</th>\n",
       "      <td>0.800</td>\n",
       "      <td>0.002044</td>\n",
       "      <td>0.027586</td>\n",
       "      <td>0.038862</td>\n",
       "      <td>0.043376</td>\n",
       "      <td>0.444044</td>\n",
       "      <td>0.037011</td>\n",
       "    </tr>\n",
       "    <tr>\n",
       "      <th>3</th>\n",
       "      <td>0.750</td>\n",
       "      <td>0.000115</td>\n",
       "      <td>0.030386</td>\n",
       "      <td>0.043251</td>\n",
       "      <td>0.048896</td>\n",
       "      <td>0.449750</td>\n",
       "      <td>0.043251</td>\n",
       "    </tr>\n",
       "    <tr>\n",
       "      <th>4</th>\n",
       "      <td>0.775</td>\n",
       "      <td>0.001067</td>\n",
       "      <td>0.027586</td>\n",
       "      <td>0.042498</td>\n",
       "      <td>0.052524</td>\n",
       "      <td>0.491692</td>\n",
       "      <td>0.041462</td>\n",
       "    </tr>\n",
       "  </tbody>\n",
       "</table>\n",
       "</div>"
      ],
      "text/plain": [
       "   ratings  no_of_ratings  discount_price  actual_price  discount  \\\n",
       "0    0.800       0.003823        0.026393      0.036981  0.040996   \n",
       "1    0.800       0.004999        0.037186      0.047640  0.046530   \n",
       "2    0.800       0.002044        0.027586      0.038862  0.043376   \n",
       "3    0.750       0.000115        0.030386      0.043251  0.048896   \n",
       "4    0.775       0.001067        0.027586      0.042498  0.052524   \n",
       "\n",
       "   discount_percentage  price_rating_ratio  \n",
       "0             0.441041            0.035220  \n",
       "1             0.388589            0.045371  \n",
       "2             0.444044            0.037011  \n",
       "3             0.449750            0.043251  \n",
       "4             0.491692            0.041462  "
      ]
     },
     "execution_count": 11,
     "metadata": {},
     "output_type": "execute_result"
    }
   ],
   "source": [
    "for column in scaled_df.columns[0:]: # Iterate over each column\n",
    "    min_max_scaling(scaled_df, column) # Apply min-max to each column\n",
    "\n",
    "scaled_df.head()"
   ]
  },
  {
   "cell_type": "code",
   "execution_count": null,
   "id": "634c98f3",
   "metadata": {},
   "outputs": [],
   "source": []
  }
 ],
 "metadata": {
  "kernelspec": {
   "display_name": "venv",
   "language": "python",
   "name": "python3"
  },
  "language_info": {
   "codemirror_mode": {
    "name": "ipython",
    "version": 3
   },
   "file_extension": ".py",
   "mimetype": "text/x-python",
   "name": "python",
   "nbconvert_exporter": "python",
   "pygments_lexer": "ipython3",
   "version": "3.13.5"
  }
 },
 "nbformat": 4,
 "nbformat_minor": 5
}
